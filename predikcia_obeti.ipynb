{
 "cells": [
  {
   "cell_type": "markdown",
   "id": "0a15b0cd",
   "metadata": {},
   "source": [
    "<h1>Predikcia počtu obetí</h1>"
   ]
  },
  {
   "cell_type": "markdown",
   "id": "9b6bab56",
   "metadata": {},
   "source": [
    "<h4>Naimportovanie knižníc</h4>"
   ]
  },
  {
   "cell_type": "code",
   "execution_count": 126,
   "id": "756ae1f2",
   "metadata": {},
   "outputs": [],
   "source": [
    "import pandas as pd\n",
    "import numpy as np\n",
    "import seaborn as sns\n",
    "import matplotlib.pyplot as plt\n",
    "from sklearn.model_selection import train_test_split\n",
    "from imblearn.over_sampling import SMOTE\n",
    "from imblearn.over_sampling import RandomOverSampler\n",
    "from imblearn.under_sampling import RandomUnderSampler\n",
    "from sklearn.metrics import make_scorer, mean_squared_error, r2_score, mean_absolute_error\n",
    "from sklearn.model_selection import GridSearchCV\n",
    "from sklearn.ensemble import RandomForestClassifier\n",
    "from sklearn.neighbors import KNeighborsClassifier\n",
    "from sklearn.tree import DecisionTreeClassifier\n"
   ]
  },
  {
   "cell_type": "markdown",
   "id": "bd74517a",
   "metadata": {},
   "source": [
    "<h4>Načítanie datasetu</h4>"
   ]
  },
  {
   "cell_type": "code",
   "execution_count": 127,
   "id": "5d98ac3e",
   "metadata": {},
   "outputs": [],
   "source": [
    "# Načítanie datasetu\n",
    "df = pd.read_csv(\"us_tornado_dataset_1950_2021.csv\")"
   ]
  },
  {
   "cell_type": "markdown",
   "id": "d1d3e826",
   "metadata": {},
   "source": [
    "<h4>Úprava datasetu</h4>"
   ]
  },
  {
   "cell_type": "code",
   "execution_count": 128,
   "id": "d7339fdc",
   "metadata": {},
   "outputs": [],
   "source": [
    "# Odstránenie stĺpca 'date' z DataFrame 'df'\n",
    "df.drop(['date'], axis=1, inplace=True)\n",
    "# Odstránenie riadkov s hodnotou 'mag' rovnou -9 z DataFrame 'df'\n",
    "df = df[df['mag'] != -9]\n",
    "# Vytvorenie stĺpca 'wid_c' pomocou kvartilového rozdelenia stĺpca 'wid'\n",
    "df['wid_c'] = pd.qcut(df['wid'], q=4, labels=['small', 'medium', 'large', 'extreme'])\n",
    "# Vytvorenie stĺpca 'len_c' pomocou kvartilového rozdelenia stĺpca 'len'\n",
    "df['len_c'] = pd.qcut(df['len'], q=4, labels=['short', 'medium', 'long', 'extreme'])\n",
    "# Vytvorenie binárneho stĺpca 'fat_bin' na základe podmienky stĺpca 'fat'\n",
    "df['fat_bin'] = df['fat'].apply(lambda x: 1 if x > 0 else 0)\n",
    "# Odstránenie stĺpcov 'elat' a 'elon' z DataFrame 'df'\n",
    "df.drop(['elat', 'elon'], axis=1, inplace=True)"
   ]
  },
  {
   "cell_type": "markdown",
   "id": "e87620b4",
   "metadata": {},
   "source": [
    "<h4>Funkcia pre výpočet priemernej dĺžky a širky</h4>"
   ]
  },
  {
   "cell_type": "code",
   "execution_count": 129,
   "id": "701cd38b",
   "metadata": {},
   "outputs": [],
   "source": [
    "def calculate_mean_values_before_encoding(train_df):\n",
    "     # Vypočítanie priemerných hodnôt atribútu 'len' pre rôzne hodnoty atribútu 'mag'\n",
    "    avg_len_by_mag = train_df[train_df['len'] != 0].groupby('mag')['len'].mean()\n",
    "    # Vypočítanie priemerných hodnôt atribútu 'wid' pre rôzne hodnoty atribútu 'mag'\n",
    "    avg_wid_by_mag = train_df[train_df['wid'] != 0].groupby('mag')['wid'].mean()\n",
    "    \n",
    "    # Vrátenie vypočítaných priemerných hodnôt\n",
    "    return avg_len_by_mag, avg_wid_by_mag"
   ]
  },
  {
   "cell_type": "markdown",
   "id": "049b8820",
   "metadata": {},
   "source": [
    "<h4>Funkcia pre nahradenie chýbajúcich hodnôt priemerom</h4>"
   ]
  },
  {
   "cell_type": "code",
   "execution_count": 130,
   "id": "9699b9f7",
   "metadata": {},
   "outputs": [],
   "source": [
    "def preprocess_data(train_df, avg_len_by_mag, avg_wid_by_mag):\n",
    "    # Pretypovanie stĺpca 'wid' na dátový typ float64\n",
    "    train_df['wid'] = train_df['wid'].astype(np.float64)\n",
    "    # Nahradenie nulových hodnôt atribútu 'len' priemerom podľa hodnoty atribútu 'mag'\n",
    "    train_df.loc[train_df['len'] == 0, 'len'] = train_df.loc[train_df['len'] == 0, 'mag'].map(avg_len_by_mag)\n",
    "    # Nahradenie nulových hodnôt atribútu 'wid' priemerom podľa hodnoty atribútu 'mag'\n",
    "    train_df.loc[train_df['wid'] == 0, 'wid'] = train_df.loc[train_df['wid'] == 0, 'mag'].map(avg_wid_by_mag)\n",
    "    # Vytvorenie kategorického stĺpca 'wid_c' pomocou kvartilového rozdelenia atribútu 'wid', pretože niektoré hodnoty boli nahradené\n",
    "    train_df['wid_c'] = pd.qcut(train_df['wid'], q=4, labels=['small', 'medium', 'large', 'extreme'])\n",
    "    # Vytvorenie kategorického stĺpca 'len_c' pomocou kvartilového rozdelenia atribútu 'len', pretože niektoré hodnoty boli nahradené\n",
    "    train_df['len_c'] = pd.qcut(train_df['len'], q=4, labels=['short', 'medium', 'long', 'extreme'])\n",
    "    \n",
    "    # Vrátenie upraveného DataFrame 'train_df'\n",
    "    return train_df"
   ]
  },
  {
   "cell_type": "markdown",
   "id": "0ad1660a",
   "metadata": {},
   "source": [
    "<h4>Funkcia pre RandomOverSampler</h4>"
   ]
  },
  {
   "cell_type": "code",
   "execution_count": 131,
   "id": "3cf9443d",
   "metadata": {},
   "outputs": [],
   "source": [
    "def balance_random(train_df, target_column='mag', random_state=42):\n",
    "    # Oddelenie cieľového atribútu od funkcií\n",
    "    X_train = train_df.drop(columns=[target_column])\n",
    "    y_train = train_df[target_column]\n",
    "\n",
    "    # Inicializácia a aplikácia RandomOverSampleru na trénovací dataset\n",
    "    oversampler = RandomOverSampler(random_state=random_state)\n",
    "    X_resampled, y_resampled = oversampler.fit_resample(X_train, y_train)\n",
    "\n",
    "    # Vytvorenie DataFrame z vyvážených údajov\n",
    "    train_df = pd.DataFrame(X_resampled, columns=X_train.columns)\n",
    "    train_df[target_column] = y_resampled\n",
    "\n",
    "    return train_df"
   ]
  },
  {
   "cell_type": "markdown",
   "id": "77cb2d94",
   "metadata": {},
   "source": [
    "<h4>Funkcia pre SMOTE</h4>"
   ]
  },
  {
   "cell_type": "code",
   "execution_count": 132,
   "id": "a573aea9",
   "metadata": {},
   "outputs": [],
   "source": [
    "def balance_smote(train_df, target_column='mag', random_state=42):\n",
    "    # Oddelenie cieľového atribútu od funkcií\n",
    "    X_train = train_df.drop(columns=[target_column])\n",
    "    y_train = train_df[target_column]\n",
    "\n",
    "    # Inicializácia a aplikácia SMOTE na trénovací dataset\n",
    "    smote = SMOTE(random_state=random_state)\n",
    "    X_resampled, y_resampled = smote.fit_resample(X_train, y_train)\n",
    "\n",
    "    # Vytvorenie DataFrame z vyvážených údajov\n",
    "    train_df = pd.DataFrame(X_resampled, columns=X_train.columns)\n",
    "    train_df[target_column] = y_resampled\n",
    "\n",
    "    return train_df"
   ]
  },
  {
   "cell_type": "markdown",
   "id": "53c0bc89",
   "metadata": {},
   "source": [
    "<h4>Funkcia pre RandomUnderSampler</h4>"
   ]
  },
  {
   "cell_type": "code",
   "execution_count": 133,
   "id": "20b5c193",
   "metadata": {},
   "outputs": [],
   "source": [
    "def balance_undersample(train_df, target_column='mag', random_state=42):\n",
    "    # Oddelenie cieľového atribútu od funkcií\n",
    "    X_train = train_df.drop(columns=[target_column])\n",
    "    y_train = train_df[target_column]\n",
    "\n",
    "    # Inicializácia a aplikácia RandomUnderSampleru na trénovací dataset\n",
    "    undersampler = RandomUnderSampler(random_state=random_state)\n",
    "    X_resampled, y_resampled = undersampler.fit_resample(X_train, y_train)\n",
    "\n",
    "    # Vytvorenie DataFrame z vyvážených údajov\n",
    "    train_df = pd.DataFrame(X_resampled, columns=X_train.columns)\n",
    "    train_df[target_column] = y_resampled\n",
    "\n",
    "    return train_df"
   ]
  },
  {
   "cell_type": "markdown",
   "id": "c46afe14",
   "metadata": {},
   "source": [
    "<h4>Funkcia pre prevedenie kategorických atribútov na číselné</h4>"
   ]
  },
  {
   "cell_type": "code",
   "execution_count": 134,
   "id": "cf287d8d",
   "metadata": {},
   "outputs": [],
   "source": [
    "# Definícia funkcie na prevedenie kategorických atribútov na číselné pomocou one-hot encoding\n",
    "def one_hot_encode(df, columns):\n",
    "    \n",
    "    return pd.get_dummies(df, columns=columns, drop_first=True)"
   ]
  },
  {
   "cell_type": "markdown",
   "id": "206e1a1d",
   "metadata": {},
   "source": [
    "<h4>Použitie funkcií</h4>"
   ]
  },
  {
   "cell_type": "code",
   "execution_count": 135,
   "id": "898cb53f",
   "metadata": {},
   "outputs": [],
   "source": [
    "# Vypočítanie priemerných hodnôt 'len' a 'wid' pre rôzne hodnoty 'mag'\n",
    "avg_len_by_mag, avg_wid_by_mag = calculate_mean_values_before_encoding(df)\n",
    "# Rozdelenie datasetu na trénovaciu a testovaciu sadu s 20% dátami pre testovanie\n",
    "train_df, test_df = train_test_split(df, test_size=0.2, random_state=42, stratify=df['wid_c'])\n",
    "# Predspracovanie trénovacieho datasetu s použitím priemerných hodnôt 'len' a 'wid'\n",
    "train_df = preprocess_data(train_df, avg_len_by_mag, avg_wid_by_mag)"
   ]
  },
  {
   "cell_type": "code",
   "execution_count": 136,
   "id": "a3098dcc",
   "metadata": {},
   "outputs": [],
   "source": [
    "# Zakódovanie kategorických stĺpcov v testovacej sade\n",
    "test_df = one_hot_encode(test_df, columns=['st', 'wid_c', 'len_c'])\n",
    "# Zakódovanie kategorických stĺpcov v trénovacej sade\n",
    "train_df = one_hot_encode(train_df, columns=['st', 'wid_c', 'len_c'])"
   ]
  },
  {
   "cell_type": "code",
   "execution_count": 137,
   "id": "6fa5f3db",
   "metadata": {},
   "outputs": [],
   "source": [
    "# Vytvorenie vyvážených trénovacích sád\n",
    "smote_train_df = balance_smote(train_df)\n",
    "balance_train_df = balance_random(train_df)\n",
    "under_train_df = balance_undersample(train_df)"
   ]
  },
  {
   "cell_type": "markdown",
   "id": "abe18985",
   "metadata": {},
   "source": [
    "<h4>Funkcia slúžiaca na zarovnanie trénovacej a testovacej množiny</h4>"
   ]
  },
  {
   "cell_type": "code",
   "execution_count": 138,
   "id": "9ef6fc46",
   "metadata": {},
   "outputs": [],
   "source": [
    "def align_columns(train_df, test_df):\n",
    "    # Zistí atribúty v trénovacej množine, ktoré nie sú v testovacej množine\n",
    "    missing_in_test = set(train_df.columns) - set(test_df.columns)\n",
    "\n",
    "    # Pridá chýbajúce atribúty do testovacej množiny a nastaví ich na 0\n",
    "    for column in missing_in_test:\n",
    "        test_df[column] = 0\n",
    "\n",
    "    # Oddelí funkčné atribúty a cieľový atribút pre trénovaciu množinu\n",
    "    X_train, y_train = train_df.drop(columns=['fat']), train_df['fat']\n",
    "\n",
    "    # Oddelí funkčné atribúty a cieľový atribút pre testovaciu množinu\n",
    "    X_test, y_test = test_df.drop(columns=['fat']), test_df['fat']\n",
    "    \n",
    "    # Získa poradie stĺpcov z testovacej množiny\n",
    "    column_order = X_train.columns.tolist()\n",
    "\n",
    "    # Zoradí stĺpce trénovacej množiny podľa rovnakého poradia ako testovacia množina\n",
    "    X_test = X_test[column_order]\n",
    "\n",
    "     # Presunie atribút 'mag' na koniec zoznamu stĺpcov\n",
    "    if 'mag' in X_train.columns:\n",
    "        X_train = X_train[[col for col in X_train.columns if col != 'mag'] + ['mag']]\n",
    "    if 'mag' in X_test.columns:\n",
    "        X_test = X_test[[col for col in X_test.columns if col != 'mag'] + ['mag']]\n",
    "\n",
    "    return X_train, y_train, X_test, y_test"
   ]
  },
  {
   "cell_type": "markdown",
   "id": "c51f9fd7",
   "metadata": {},
   "source": [
    "<h4>Použitie funkcie na zarovnanie pre všetký upravené vzorky</h4>"
   ]
  },
  {
   "cell_type": "code",
   "execution_count": 139,
   "id": "63c02bb1-0f7e-463a-babe-bf938b41eec6",
   "metadata": {},
   "outputs": [],
   "source": [
    "# Zarovnanie testovacích a trénovacích sád\n",
    "X_train, y_train, X_test, y_test = align_columns(train_df, test_df)\n",
    "X_train_balance, y_train_balance,  X_test, y_test= align_columns(balance_train_df, test_df)\n",
    "X_train_smote, y_train_smote,  X_test, y_test = align_columns(smote_train_df, test_df)\n",
    "X_train_under, y_train_under,  X_test, y_test = align_columns(under_train_df, test_df)"
   ]
  },
  {
   "cell_type": "markdown",
   "id": "681f0d93",
   "metadata": {},
   "source": [
    "<h4>Vyhľadávanie optimálnych parametrov pre model Random Forest</h4>"
   ]
  },
  {
   "cell_type": "code",
   "execution_count": 140,
   "id": "b2bf67c1",
   "metadata": {},
   "outputs": [
    {
     "name": "stdout",
     "output_type": "stream",
     "text": [
      "Fitting 5 folds for each of 27 candidates, totalling 135 fits\n"
     ]
    },
    {
     "name": "stderr",
     "output_type": "stream",
     "text": [
      "C:\\Users\\pavel\\AppData\\Local\\Packages\\PythonSoftwareFoundation.Python.3.10_qbz5n2kfra8p0\\LocalCache\\local-packages\\Python310\\site-packages\\sklearn\\model_selection\\_split.py:737: UserWarning: The least populated class in y has only 1 members, which is less than n_splits=5.\n",
      "  warnings.warn(\n"
     ]
    },
    {
     "name": "stdout",
     "output_type": "stream",
     "text": [
      "Najlepšie parametre:\n",
      "{'max_depth': 30, 'min_samples_split': 2, 'n_estimators': 300}\n"
     ]
    }
   ],
   "source": [
    "# Definícia modelu\n",
    "rf_model = RandomForestClassifier(random_state=42)\n",
    "\n",
    "# Definícia množiny parametrov na prehľadanie\n",
    "param_grid = {\n",
    "    'n_estimators': [100, 200, 300],\n",
    "    'max_depth': [10, 20, 30],\n",
    "    'min_samples_split': [2, 5, 10]\n",
    "}\n",
    "\n",
    "# Definícia metrík na vyhodnotenie modelu\n",
    "scoring = {\n",
    "    'RMSE': make_scorer(mean_squared_error, squared=False),\n",
    "    'R^2': make_scorer(r2_score),\n",
    "    'MAE': make_scorer(mean_absolute_error)\n",
    "}\n",
    "\n",
    "# Vytvorenie GridSearchCV objektu\n",
    "grid_search = GridSearchCV(estimator=rf_model, param_grid=param_grid, scoring=scoring, refit='R^2', cv=5, verbose=3, n_jobs=-1)\n",
    "\n",
    "# Vykonanie vyhľadávania parametrov\n",
    "grid_search.fit(X_train, y_train)\n",
    "\n",
    "# Najlepšie parametre a výsledky\n",
    "print(\"Najlepšie parametre:\")\n",
    "print(grid_search.best_params_)"
   ]
  },
  {
   "cell_type": "markdown",
   "id": "832d8fb0",
   "metadata": {},
   "source": [
    "<h4>Funkcia na slúžiaca na použitie modelu s optimálnymi parametrami na rôznych trénovacích sadách - Random Forest</h4>"
   ]
  },
  {
   "cell_type": "code",
   "execution_count": 141,
   "id": "418a75e1-c72b-413c-bfe6-51b32eeb9bfa",
   "metadata": {},
   "outputs": [],
   "source": [
    "def evaluate_model_rf(X_train, y_train, X_test, y_test):\n",
    "    # Natrénovanie modelu pomocou najlepších parametrov\n",
    "    grid_search.best_estimator_.fit(X_train, y_train)\n",
    "    # Predikcia na testovacej množine pomocou najlepšieho modelu\n",
    "    rf_pred_optimized = grid_search.best_estimator_.predict(X_test)\n",
    "\n",
    "    # Vyhodnotenie modelu pomocou rôznych metrík\n",
    "    rf_rmse_optimized = np.sqrt(mean_squared_error(y_test, rf_pred_optimized))\n",
    "    rf_r2_optimized = r2_score(y_test, rf_pred_optimized)\n",
    "    rf_mae_optimized = mean_absolute_error(y_test, rf_pred_optimized)\n",
    "\n",
    "    # Výpis metrík pre optimalizovaný model\n",
    "    print(\"RMSE:\", rf_rmse_optimized)\n",
    "    print(\"R^2:\", rf_r2_optimized)\n",
    "    print(\"MAE:\", rf_mae_optimized)"
   ]
  },
  {
   "cell_type": "markdown",
   "id": "15625d30",
   "metadata": {},
   "source": [
    "<h4>Použitie funkcie </h4>"
   ]
  },
  {
   "cell_type": "code",
   "execution_count": 142,
   "id": "72f4c949",
   "metadata": {},
   "outputs": [
    {
     "name": "stdout",
     "output_type": "stream",
     "text": [
      "\n",
      "RF - nevybalansovaná\n",
      "RMSE: 0.947623969785177\n",
      "R^2: 0.23524878245254466\n",
      "MAE: 0.05742662982600254\n",
      "\n",
      "RF - OVER\n",
      "RMSE: 0.847360351550468\n",
      "R^2: 0.3885170098362759\n",
      "MAE: 0.055036965125830783\n",
      "\n",
      "RF - SMOTE\n",
      "RMSE: 0.8547748136658653\n",
      "R^2: 0.3777691548869603\n",
      "MAE: 0.05242326936001792\n",
      "\n",
      "RF - UNDER\n",
      "RMSE: 0.9185319772356273\n",
      "R^2: 0.2814836377670561\n",
      "MAE: 0.07154058696139198\n"
     ]
    }
   ],
   "source": [
    "print(\"\\nRF - nevybalansovaná\")\n",
    "evaluate_model_rf(X_train, y_train, X_test, y_test)\n",
    "print(\"\\nRF - OVER\")\n",
    "evaluate_model_rf(X_train_balance, y_train_balance, X_test, y_test)\n",
    "print(\"\\nRF - SMOTE\")\n",
    "evaluate_model_rf(X_train_smote, y_train_smote,X_test, y_test)\n",
    "print(\"\\nRF - UNDER\")\n",
    "evaluate_model_rf(X_train_under, y_train_under ,X_test, y_test)"
   ]
  },
  {
   "cell_type": "markdown",
   "id": "7bcec074",
   "metadata": {},
   "source": [
    "<h4>Spustenie modelu s najlepšími výsledkami - RandomOverSampler - Optimalizované parametre</h4>"
   ]
  },
  {
   "cell_type": "code",
   "execution_count": 143,
   "id": "f1d2ebfb-c7b0-4fd6-a02b-d398a076b87a",
   "metadata": {},
   "outputs": [
    {
     "name": "stdout",
     "output_type": "stream",
     "text": [
      "\n",
      "Najlepší model Random Forest:\n",
      "RMSE: 0.847360351550468\n",
      "R^2: 0.3885170098362759\n",
      "MAE: 0.055036965125830783\n"
     ]
    }
   ],
   "source": [
    "# Definícia modelu s najlepšími parametrami\n",
    "rf_model_optimized = RandomForestClassifier(n_estimators=300, max_depth=30, min_samples_split=2, random_state=42)\n",
    "\n",
    "# Trénovanie modelu na trénovacích dátach\n",
    "rf_model_optimized.fit(X_train_balance, y_train_balance)\n",
    "\n",
    "# Predikcia na testovacej množine pomocou optimalizovaného modelu\n",
    "rf_pred_optimized = rf_model_optimized.predict(X_test)\n",
    "\n",
    "# Vyhodnotenie modelu pomocou rôznych metrík\n",
    "rf_rmse_optimized = np.sqrt(mean_squared_error(y_test, rf_pred_optimized))\n",
    "rf_r2_optimized = r2_score(y_test, rf_pred_optimized)\n",
    "rf_mae_optimized = mean_absolute_error(y_test, rf_pred_optimized)\n",
    "\n",
    "# Výpis metrík pre optimalizovaný model\n",
    "print(\"\\nNajlepší model Random Forest:\")\n",
    "print(\"RMSE:\", rf_rmse_optimized)\n",
    "print(\"R^2:\", rf_r2_optimized)\n",
    "print(\"MAE:\", rf_mae_optimized)\n"
   ]
  },
  {
   "cell_type": "markdown",
   "id": "044fac15",
   "metadata": {},
   "source": [
    "<h4>Zobrazenie RMSE a MSE na grafe</h4>"
   ]
  },
  {
   "cell_type": "code",
   "execution_count": 144,
   "id": "6998d939",
   "metadata": {},
   "outputs": [],
   "source": [
    "# Vytvorí nový DataFrame test_df zo sady príznakov X_test so stĺpcami, ktoré sú rovnaké ako v X_test\n",
    "test_df = pd.DataFrame(X_test, columns=X_test.columns)  \n",
    "# Pridáva stĺpec 'RNF' (Random Forest) do test_df, ktorý obsahuje predikcie modelu Random Forest uložené v rf_pred_optimized\n",
    "test_df['RNF'] = rf_pred_optimized  \n",
    "# Pridáva stĺpec 'Real_Value' do test_df, ktorý obsahuje skutočné hodnoty cieľového atribútu uložené v y_test\n",
    "test_df['Real_Value'] = y_test  \n"
   ]
  },
  {
   "cell_type": "code",
   "execution_count": 145,
   "id": "77c7bc5f",
   "metadata": {},
   "outputs": [
    {
     "data": {
      "image/png": "[encoded data removed]",
      "text/plain": [
       "<Figure size 1200x600 with 1 Axes>"
      ]
     },
     "metadata": {},
     "output_type": "display_data"
    }
   ],
   "source": [
    "# Vytvorí dictionary pre uchovávanie hodnôt chýb pre jednotlivé hodnoty atribútu 'mag'\n",
    "mag_errors = {}\n",
    "\n",
    "# Cyklus pre každu intenzitu tornáda\n",
    "for mag_value in test_df['mag'].unique():\n",
    "    # Vyberie dáta pre danú hodnotu 'mag'\n",
    "    mag_data = test_df[test_df['mag'] == mag_value]\n",
    "    \n",
    "    # Vypočíta Mean Absolute Error (MAE) pre túto kategóriu\n",
    "    mae = mean_absolute_error(mag_data['Real_Value'], mag_data['RNF'])\n",
    "    \n",
    "    # Vypočíta Root Mean Squared Error (RMSE) pre túto kategóriu\n",
    "    rmse = np.sqrt(mean_squared_error(mag_data['Real_Value'], mag_data['RNF']))\n",
    "    \n",
    "    # Uloží hodnoty chýb pre túto kategóriu do dictionary\n",
    "    mag_errors[mag_value] = {'MAE': mae, 'RMSE': rmse}\n",
    "\n",
    "# Konvertuje dictionary na DataFrame\n",
    "errors_df = pd.DataFrame.from_dict(mag_errors, orient='index')\n",
    "\n",
    "# Zoradí DataFrame podľa indexu (hodnôt atribútu 'mag')\n",
    "errors_df = errors_df.sort_index()\n",
    "\n",
    "# Vytvorí graf pre MAE a RMSE \n",
    "plt.figure(figsize=(12, 6))\n",
    "\n",
    "# Šírka pruhov\n",
    "bar_width = 0.35\n",
    "\n",
    "# Indexy pre os x\n",
    "index = errors_df.index\n",
    "labels = index.tolist()\n",
    "bar_index = range(len(index))\n",
    "\n",
    "# Nakreslí stĺpce pre MAE\n",
    "plt.bar(bar_index, errors_df['MAE'], bar_width, color='skyblue', label='MAE')\n",
    "\n",
    "# Nakreslí stĺpce pre RMSE\n",
    "plt.bar([i + bar_width for i in bar_index], errors_df['RMSE'], bar_width, color='salmon', label='RMSE')\n",
    "\n",
    "plt.xlabel('Intenzita tornáda')\n",
    "plt.ylabel('Hodnota chyby')\n",
    "plt.title('Rozdelenie MAE a RMSE podľa intenzity tornáda')\n",
    "plt.xticks([i + bar_width / 2 for i in bar_index], labels)\n",
    "plt.legend()\n",
    "\n",
    "# Priradí čísla nad stĺpce pre MAE\n",
    "for i, v in enumerate(errors_df['MAE']):\n",
    "    plt.text(i, v + 0.05, f'{v:.2f}', ha='center', va='bottom')\n",
    "\n",
    "# Priradí čísla nad stĺpce pre RMSE\n",
    "for i, v in enumerate(errors_df['RMSE']):\n",
    "    plt.text(i + bar_width, v + 0.05, f'{v:.2f}', ha='center', va='bottom')\n",
    "\n",
    "plt.tight_layout()\n",
    "plt.show()\n"
   ]
  },
  {
   "cell_type": "markdown",
   "id": "6e53d69e",
   "metadata": {},
   "source": [
    "<h4>Vyhľadávanie optimálnych parametrov pre model KNN</h4>"
   ]
  },
  {
   "cell_type": "code",
   "execution_count": 146,
   "id": "8e58a730",
   "metadata": {},
   "outputs": [
    {
     "name": "stdout",
     "output_type": "stream",
     "text": [
      "Fitting 5 folds for each of 16 candidates, totalling 80 fits\n"
     ]
    },
    {
     "name": "stderr",
     "output_type": "stream",
     "text": [
      "C:\\Users\\pavel\\AppData\\Local\\Packages\\PythonSoftwareFoundation.Python.3.10_qbz5n2kfra8p0\\LocalCache\\local-packages\\Python310\\site-packages\\sklearn\\model_selection\\_split.py:737: UserWarning: The least populated class in y has only 1 members, which is less than n_splits=5.\n",
      "  warnings.warn(\n"
     ]
    },
    {
     "name": "stdout",
     "output_type": "stream",
     "text": [
      "Najlepšie parametre:\n",
      "{'n_neighbors': 3, 'p': 2, 'weights': 'uniform'}\n"
     ]
    }
   ],
   "source": [
    "# Definícia modelu KNN\n",
    "knn_model = KNeighborsClassifier()\n",
    "\n",
    "# Definícia množiny parametrov, ktoré budeme prehľadávať\n",
    "param_grid = {\n",
    "    'n_neighbors': [3, 5, 7, 9],  # Počet susedov\n",
    "    'weights': ['uniform', 'distance'],  # Váhovanie bodov: uniform, distance\n",
    "    'p': [1, 2]  # Norma pre výpočet vzdialenosti: 1 (Manhattan), 2 (Euklidovská)\n",
    "}\n",
    "\n",
    "\n",
    "# Definícia metrík na vyhodnotenie modelu\n",
    "scoring = {\n",
    "    'RMSE': make_scorer(mean_squared_error, squared=False),\n",
    "    'R^2': make_scorer(r2_score),\n",
    "    'MAE': make_scorer(mean_absolute_error)\n",
    "}\n",
    "\n",
    "# Vytvorenie GridSearchCV objektu\n",
    "grid_search = GridSearchCV(estimator=knn_model, param_grid=param_grid, scoring=scoring, refit='R^2', cv=5, verbose=3, n_jobs=-1)\n",
    "\n",
    "# Vykonanie vyhľadávania parametrov\n",
    "grid_search.fit(X_train, y_train)\n",
    "\n",
    "# Najlepšie parametre a výsledky\n",
    "print(\"Najlepšie parametre:\")\n",
    "print(grid_search.best_params_)"
   ]
  },
  {
   "cell_type": "markdown",
   "id": "9f022a60",
   "metadata": {},
   "source": [
    "<h4>Funkcia na slúžiaca na použitie modelu s optimálnymi parametrami na rôznych trénovacích sadách - KNN</h4>"
   ]
  },
  {
   "cell_type": "code",
   "execution_count": 147,
   "id": "55df47d5-05f7-41a2-be0f-33797ae10bea",
   "metadata": {},
   "outputs": [],
   "source": [
    "def evaluate_model_knn(X_train, y_train, X_test, y_test):\n",
    "    # Natrénovanie modelu pomocou najlepších parametrov\n",
    "    grid_search.best_estimator_.fit(X_train, y_train)\n",
    "    # Predict on the test set using the best model\n",
    "    knn_pred_optimized = grid_search.best_estimator_.predict(X_test)\n",
    "\n",
    "    # Evaluate the optimized model\n",
    "    knn_rmse_optimized = np.sqrt(mean_squared_error(y_test, knn_pred_optimized))\n",
    "    knn_r2_optimized = r2_score(y_test, knn_pred_optimized)\n",
    "    knn_mae_optimized = mean_absolute_error(y_test, knn_pred_optimized)\n",
    "\n",
    "    # Print metrics for the optimized model\n",
    "    print(\"\\nOptimized KNN:\")\n",
    "    print(\"RMSE:\", knn_rmse_optimized)\n",
    "    print(\"R^2:\", knn_r2_optimized)\n",
    "    print(\"MAE:\", knn_mae_optimized)\n"
   ]
  },
  {
   "cell_type": "markdown",
   "id": "a9449ec0",
   "metadata": {},
   "source": [
    "<h4>Použitie funkcie </h4>"
   ]
  },
  {
   "cell_type": "code",
   "execution_count": 148,
   "id": "940e6fb5",
   "metadata": {},
   "outputs": [
    {
     "name": "stdout",
     "output_type": "stream",
     "text": [
      "\n",
      "KNN - nevybalansovaná\n",
      "\n",
      "Optimized KNN:\n",
      "RMSE: 0.9093807455093761\n",
      "R^2: 0.29572931533301283\n",
      "MAE: 0.07870958106190726\n",
      "\n",
      "KNN - OVER\n",
      "\n",
      "Optimized KNN:\n",
      "RMSE: 1.0537776403782078\n",
      "R^2: 0.05431595800992428\n",
      "MAE: 0.09932043910088866\n",
      "\n",
      "KNN - SMOTE\n",
      "\n",
      "Optimized KNN:\n",
      "RMSE: 0.9822181253023519\n",
      "R^2: 0.17839326573841374\n",
      "MAE: 0.09386901650362184\n",
      "\n",
      "KNN - UNDER\n",
      "\n",
      "Optimized KNN:\n",
      "RMSE: 0.913681797783357\n",
      "R^2: 0.2890516539739707\n",
      "MAE: 0.08744679262191024\n"
     ]
    }
   ],
   "source": [
    "print(\"\\nKNN - nevybalansovaná\")\n",
    "evaluate_model_knn(X_train, y_train, X_test, y_test)\n",
    "print(\"\\nKNN - OVER\")\n",
    "evaluate_model_knn(X_train_balance, y_train_balance, X_test, y_test)\n",
    "print(\"\\nKNN - SMOTE\")\n",
    "evaluate_model_knn(X_train_smote, y_train_smote,X_test, y_test)\n",
    "print(\"\\nKNN - UNDER\")\n",
    "evaluate_model_knn(X_train_under, y_train_under ,X_test, y_test)"
   ]
  },
  {
   "cell_type": "markdown",
   "id": "4cf377bf",
   "metadata": {},
   "source": [
    "<h4>Spustenie modelu s najlepšími výsledkami - Nevybalansovaná - Optimalizované parametre</h4>"
   ]
  },
  {
   "cell_type": "code",
   "execution_count": 149,
   "id": "e5b31838-5b7e-4360-ba52-ec04f7699d28",
   "metadata": {},
   "outputs": [
    {
     "name": "stdout",
     "output_type": "stream",
     "text": [
      "\n",
      "Optimalizovaný KNN:\n",
      "RMSE: 0.9093807455093761\n",
      "R^2: 0.29572931533301283\n",
      "MAE: 0.07870958106190726\n"
     ]
    }
   ],
   "source": [
    "# Definícia modelu s najlepšími parametrami\n",
    "knn_model_optimized = KNeighborsClassifier(n_neighbors=3, weights='uniform', p=2)\n",
    "\n",
    "# Trénovanie modelu na trénovacích dátach\n",
    "knn_model_optimized.fit(X_train, y_train)\n",
    "\n",
    "# Predikcia na testovacej množine pomocou optimalizovaného modelu\n",
    "knn_pred_optimized = knn_model_optimized.predict(X_test)\n",
    "\n",
    "# Vyhodnotenie modelu pomocou rôznych metrík\n",
    "knn_rmse_optimized = np.sqrt(mean_squared_error(y_test, knn_pred_optimized))\n",
    "knn_r2_optimized = r2_score(y_test, knn_pred_optimized)\n",
    "knn_mae_optimized = mean_absolute_error(y_test, knn_pred_optimized)\n",
    "\n",
    "# Výpis metrík pre optimalizovaný model\n",
    "print(\"\\nOptimalizovaný KNN:\")\n",
    "print(\"RMSE:\", knn_rmse_optimized)\n",
    "print(\"R^2:\", knn_r2_optimized)\n",
    "print(\"MAE:\", knn_mae_optimized)\n"
   ]
  },
  {
   "cell_type": "markdown",
   "id": "15689236",
   "metadata": {},
   "source": [
    "<h4>Zobrazenie RMSE a MSE na grafe</h4>"
   ]
  },
  {
   "cell_type": "code",
   "execution_count": 150,
   "id": "a6d25aea",
   "metadata": {},
   "outputs": [],
   "source": [
    "# Vytvorí nový DataFrame test_df zo sady príznakov X_test so stĺpcami, ktoré sú rovnaké ako v X_test\n",
    "test_df = pd.DataFrame(X_test, columns=X_test.columns)  \n",
    "# Pridáva stĺpec 'KNN' do test_df, ktorý obsahuje predikcie modelu KNN uložené v rf_pred_optimized\n",
    "test_df['KNN'] = knn_pred_optimized  \n",
    "# Pridáva stĺpec 'Real_Value' do test_df, ktorý obsahuje skutočné hodnoty cieľového atribútu uložené v y_test\n",
    "test_df['Real_Value'] = y_test  "
   ]
  },
  {
   "cell_type": "code",
   "execution_count": 151,
   "id": "8e364d10",
   "metadata": {},
   "outputs": [
    {
     "data": {
      "image/png": "[encoded data removed]",
      "text/plain": [
       "<Figure size 1200x600 with 1 Axes>"
      ]
     },
     "metadata": {},
     "output_type": "display_data"
    }
   ],
   "source": [
    "# Vytvorí dictionary pre uchovávanie hodnôt chýb pre jednotlivé hodnoty atribútu 'mag'\n",
    "mag_errors = {}\n",
    "\n",
    "# Cyklus pre každu intenzitu tornáda\n",
    "for mag_value in test_df['mag'].unique():\n",
    "    # Vyberie dáta pre danú hodnotu 'mag'\n",
    "    mag_data = test_df[test_df['mag'] == mag_value]\n",
    "    \n",
    "    # Vypočíta Mean Absolute Error (MAE) pre túto kategóriu\n",
    "    mae = mean_absolute_error(mag_data['Real_Value'], mag_data['KNN'])\n",
    "    \n",
    "    # Vypočíta Root Mean Squared Error (RMSE) pre túto kategóriu\n",
    "    rmse = np.sqrt(mean_squared_error(mag_data['Real_Value'], mag_data['KNN']))\n",
    "    \n",
    "    # Uloží hodnoty chýb pre túto kategóriu do dictionary\n",
    "    mag_errors[mag_value] = {'MAE': mae, 'RMSE': rmse}\n",
    "\n",
    "# Konvertuje dictionary na DataFrame\n",
    "errors_df = pd.DataFrame.from_dict(mag_errors, orient='index')\n",
    "\n",
    "# Zoradí DataFrame podľa indexu (hodnôt atribútu 'mag')\n",
    "errors_df = errors_df.sort_index()\n",
    "\n",
    "# Vytvorí graf pre MAE a RMSE \n",
    "plt.figure(figsize=(12, 6))\n",
    "\n",
    "# Šírka pruhov\n",
    "bar_width = 0.35\n",
    "\n",
    "# Indexy pre os x\n",
    "index = errors_df.index\n",
    "labels = index.tolist()\n",
    "bar_index = range(len(index))\n",
    "\n",
    "# Nakreslí stĺpce pre MAE\n",
    "plt.bar(bar_index, errors_df['MAE'], bar_width, color='skyblue', label='MAE')\n",
    "\n",
    "# Nakreslí stĺpce pre RMSE\n",
    "plt.bar([i + bar_width for i in bar_index], errors_df['RMSE'], bar_width, color='salmon', label='RMSE')\n",
    "\n",
    "plt.xlabel('Intenzita tornáda')\n",
    "plt.ylabel('Hodnota chyby')\n",
    "plt.title('Rozdelenie MAE a RMSE podľa intenzity tornáda')\n",
    "plt.xticks([i + bar_width / 2 for i in bar_index], labels)\n",
    "plt.legend()\n",
    "\n",
    "# Priradí čísla nad stĺpce pre MAE\n",
    "for i, v in enumerate(errors_df['MAE']):\n",
    "    plt.text(i, v + 0.05, f'{v:.2f}', ha='center', va='bottom')\n",
    "\n",
    "# Priradí čísla nad stĺpce pre RMSE\n",
    "for i, v in enumerate(errors_df['RMSE']):\n",
    "    plt.text(i + bar_width, v + 0.05, f'{v:.2f}', ha='center', va='bottom')\n",
    "\n",
    "plt.tight_layout()\n",
    "plt.show()\n"
   ]
  },
  {
   "cell_type": "markdown",
   "id": "ba2ae74d",
   "metadata": {},
   "source": [
    "<h4>Vyhľadávanie optimálnych parametrov pre model Rozhodovacie Stromy</h4>"
   ]
  },
  {
   "cell_type": "code",
   "execution_count": 152,
   "id": "b7732fe9",
   "metadata": {},
   "outputs": [
    {
     "name": "stdout",
     "output_type": "stream",
     "text": [
      "Fitting 5 folds for each of 36 candidates, totalling 180 fits\n"
     ]
    },
    {
     "name": "stderr",
     "output_type": "stream",
     "text": [
      "C:\\Users\\pavel\\AppData\\Local\\Packages\\PythonSoftwareFoundation.Python.3.10_qbz5n2kfra8p0\\LocalCache\\local-packages\\Python310\\site-packages\\sklearn\\model_selection\\_split.py:737: UserWarning: The least populated class in y has only 1 members, which is less than n_splits=5.\n",
      "  warnings.warn(\n"
     ]
    },
    {
     "name": "stdout",
     "output_type": "stream",
     "text": [
      "Najlepšie parametre:\n",
      "{'max_depth': None, 'min_samples_leaf': 2, 'min_samples_split': 5}\n"
     ]
    }
   ],
   "source": [
    "# Definícia modelu Rozhodovacích stromov\n",
    "dt_model = DecisionTreeClassifier(random_state=42)\n",
    "\n",
    "# Definícia množiny parametrov na prehľadanie\n",
    "param_grid = {\n",
    "    'max_depth': [None, 5, 10, 15],  # Maximálna hĺbka stromu\n",
    "    'min_samples_split': [2, 5, 10],  # Minimálny počet vzoriek potrebných na rozdelenie uzla\n",
    "    'min_samples_leaf': [1, 2, 4]  # Minimálny počet vzoriek potrebných na list\n",
    "}\n",
    "\n",
    "# Definícia metrík na vyhodnotenie modelu\n",
    "scoring = {\n",
    "    'RMSE': make_scorer(mean_squared_error, squared=False),\n",
    "    'R^2': make_scorer(r2_score),\n",
    "    'MAE': make_scorer(mean_absolute_error)\n",
    "}\n",
    "\n",
    "# Vytvorenie GridSearchCV objektu\n",
    "grid_search = GridSearchCV(estimator=dt_model, param_grid=param_grid, scoring=scoring, refit='R^2', cv=5, verbose=3, n_jobs=-1)\n",
    "\n",
    "# Vykonanie vyhľadávania parametrov\n",
    "grid_search.fit(X_train, y_train)\n",
    "\n",
    "# Najlepšie parametre a výsledky\n",
    "print(\"Najlepšie parametre:\")\n",
    "print(grid_search.best_params_)"
   ]
  },
  {
   "cell_type": "markdown",
   "id": "0b9b72ba",
   "metadata": {},
   "source": [
    "<h4>Funkcia na slúžiaca na použitie modelu s optimálnymi parametrami na rôznych trénovacích sadách - Rozhodovacie Stromy</h4>"
   ]
  },
  {
   "cell_type": "code",
   "execution_count": 153,
   "id": "8119a595-18be-4f4f-a588-602fce368bb0",
   "metadata": {},
   "outputs": [],
   "source": [
    "def evaluate_model_dt(X_train, y_train, X_test, y_test):\n",
    "    # Natrénovanie modelu pomocou najlepších parametrov\n",
    "    grid_search.best_estimator_.fit(X_train, y_train)\n",
    "    # Predikcia na testovacej množine pomocou najlepšieho modelu\n",
    "    dt_pred_optimized = grid_search.best_estimator_.predict(X_test)\n",
    "\n",
    "    # Vyhodnotenie modelu pomocou rôznych metrík\n",
    "    dt_rmse_optimized = np.sqrt(mean_squared_error(y_test, dt_pred_optimized))\n",
    "    dt_r2_optimized = r2_score(y_test, dt_pred_optimized)\n",
    "    dt_mae_optimized = mean_absolute_error(y_test, dt_pred_optimized)\n",
    "\n",
    "    # Výpis metrík pre optimalizovaný model\n",
    "    print(\"\\nOptimalizované Rozhodovacie stromy:\")\n",
    "    print(\"RMSE:\", dt_rmse_optimized)\n",
    "    print(\"R^2:\", dt_r2_optimized)\n",
    "    print(\"MAE:\", dt_mae_optimized)"
   ]
  },
  {
   "cell_type": "markdown",
   "id": "96d0e805",
   "metadata": {},
   "source": [
    "<h4>Použitie funkcie </h4>"
   ]
  },
  {
   "cell_type": "code",
   "execution_count": 154,
   "id": "863f5500",
   "metadata": {},
   "outputs": [
    {
     "name": "stdout",
     "output_type": "stream",
     "text": [
      "\n",
      "DT - nevybalansovaná\n",
      "\n",
      "Optimalizované Rozhodovacie stromy:\n",
      "RMSE: 0.7593294976084604\n",
      "R^2: 0.508969301398428\n",
      "MAE: 0.05249794638189829\n",
      "\n",
      "DT - OVER\n",
      "\n",
      "Optimalizované Rozhodovacie stromy:\n",
      "RMSE: 1.0100680536130124\n",
      "R^2: 0.1311408620263339\n",
      "MAE: 0.06959898439250242\n",
      "\n",
      "DT - SMOTE\n",
      "\n",
      "Optimalizované Rozhodovacie stromy:\n",
      "RMSE: 0.7930039099869395\n",
      "R^2: 0.46445155900481316\n",
      "MAE: 0.06235531327010679\n",
      "\n",
      "DT - UNDER\n",
      "\n",
      "Optimalizované Rozhodovacie stromy:\n",
      "RMSE: 0.7513212418091859\n",
      "R^2: 0.5192719789238075\n",
      "MAE: 0.05369277873198417\n"
     ]
    }
   ],
   "source": [
    "print(\"\\nDT - nevybalansovaná\")\n",
    "evaluate_model_dt(X_train, y_train, X_test, y_test)\n",
    "print(\"\\nDT - OVER\")\n",
    "evaluate_model_dt(X_train_balance, y_train_balance, X_test, y_test)\n",
    "print(\"\\nDT - SMOTE\")\n",
    "evaluate_model_dt(X_train_smote, y_train_smote,X_test, y_test)\n",
    "print(\"\\nDT - UNDER\")\n",
    "evaluate_model_dt(X_train_under, y_train_under ,X_test, y_test)"
   ]
  },
  {
   "cell_type": "markdown",
   "id": "8d871f56",
   "metadata": {},
   "source": [
    "<h4>Spustenie modelu s najlepšími výsledkami - RandomUnderSampler - Optimalizované parametre</h4>"
   ]
  },
  {
   "cell_type": "code",
   "execution_count": 155,
   "id": "9e743f5c-4919-4a33-8b57-a90e0f0ce34f",
   "metadata": {},
   "outputs": [
    {
     "name": "stdout",
     "output_type": "stream",
     "text": [
      "\n",
      "Optimalizované Rozhodovacie stromy:\n",
      "RMSE: 0.7513212418091859\n",
      "R^2: 0.5192719789238075\n",
      "MAE: 0.05369277873198417\n"
     ]
    }
   ],
   "source": [
    "# Definícia modelu s najlepšími parametrami\n",
    "dt_model_optimized = DecisionTreeClassifier(max_depth=None, min_samples_leaf=2, min_samples_split=5, random_state=42)\n",
    "\n",
    "# Trénovanie modelu na trénovacích dátach\n",
    "dt_model_optimized.fit(X_train_under, y_train_under)\n",
    "\n",
    "# Predikcia na testovacej množine pomocou optimalizovaného modelu\n",
    "dt_pred_optimized = dt_model_optimized.predict(X_test)\n",
    "\n",
    "# Vyhodnotenie modelu pomocou rôznych metrík\n",
    "dt_rmse_optimized = np.sqrt(mean_squared_error(y_test, dt_pred_optimized))\n",
    "dt_r2_optimized = r2_score(y_test, dt_pred_optimized)\n",
    "dt_mae_optimized = mean_absolute_error(y_test, dt_pred_optimized)\n",
    "\n",
    "# Výpis metrík pre optimalizovaný model\n",
    "print(\"\\nOptimalizované Rozhodovacie stromy:\")\n",
    "print(\"RMSE:\", dt_rmse_optimized)\n",
    "print(\"R^2:\", dt_r2_optimized)\n",
    "print(\"MAE:\", dt_mae_optimized)\n"
   ]
  },
  {
   "cell_type": "markdown",
   "id": "8885a865",
   "metadata": {},
   "source": [
    "<h4>Zobrazenie RMSE a MSE na grafe</h4>"
   ]
  },
  {
   "cell_type": "code",
   "execution_count": 156,
   "id": "92b92a60",
   "metadata": {},
   "outputs": [],
   "source": [
    "# Vytvorí nový DataFrame test_df zo sady príznakov X_test so stĺpcami, ktoré sú rovnaké ako v X_test\n",
    "test_df = pd.DataFrame(X_test, columns=X_test.columns)  \n",
    "# Pridáva stĺpec 'DT' do test_df, ktorý obsahuje predikcie modelu Rozhodovacie Stromy uložené v rf_pred_optimized\n",
    "test_df['DT'] = dt_pred_optimized  \n",
    "# Pridáva stĺpec 'Real_Value' do test_df, ktorý obsahuje skutočné hodnoty cieľového atribútu uložené v y_test\n",
    "test_df['Real_Value'] = y_test  "
   ]
  },
  {
   "cell_type": "code",
   "execution_count": 157,
   "id": "85c217b7",
   "metadata": {},
   "outputs": [
    {
     "data": {
      "image/png": "[encoded data removed]",
      "text/plain": [
       "<Figure size 1200x600 with 1 Axes>"
      ]
     },
     "metadata": {},
     "output_type": "display_data"
    }
   ],
   "source": [
    "# Vytvorí dictionary pre uchovávanie hodnôt chýb pre jednotlivé hodnoty atribútu 'mag'\n",
    "mag_errors = {}\n",
    "\n",
    "# Cyklus pre každu intenzitu tornáda\n",
    "for mag_value in test_df['mag'].unique():\n",
    "    # Vyberie dáta pre danú hodnotu 'mag'\n",
    "    mag_data = test_df[test_df['mag'] == mag_value]\n",
    "    \n",
    "    # Vypočíta Mean Absolute Error (MAE) pre túto kategóriu\n",
    "    mae = mean_absolute_error(mag_data['Real_Value'], mag_data['DT'])\n",
    "    \n",
    "    # Vypočíta Root Mean Squared Error (RMSE) pre túto kategóriu\n",
    "    rmse = np.sqrt(mean_squared_error(mag_data['Real_Value'], mag_data['DT']))\n",
    "    \n",
    "    # Uloží hodnoty chýb pre túto kategóriu do dictionary\n",
    "    mag_errors[mag_value] = {'MAE': mae, 'RMSE': rmse}\n",
    "\n",
    "# Konvertuje dictionary na DataFrame\n",
    "errors_df = pd.DataFrame.from_dict(mag_errors, orient='index')\n",
    "\n",
    "# Zoradí DataFrame podľa indexu (hodnôt atribútu 'mag')\n",
    "errors_df = errors_df.sort_index()\n",
    "\n",
    "# Vytvorí graf pre MAE a RMSE \n",
    "plt.figure(figsize=(12, 6))\n",
    "\n",
    "# Šírka pruhov\n",
    "bar_width = 0.35\n",
    "\n",
    "# Indexy pre os x\n",
    "index = errors_df.index\n",
    "labels = index.tolist()\n",
    "bar_index = range(len(index))\n",
    "\n",
    "# Nakreslí stĺpce pre MAE\n",
    "plt.bar(bar_index, errors_df['MAE'], bar_width, color='skyblue', label='MAE')\n",
    "\n",
    "# Nakreslí stĺpce pre RMSE\n",
    "plt.bar([i + bar_width for i in bar_index], errors_df['RMSE'], bar_width, color='salmon', label='RMSE')\n",
    "\n",
    "plt.xlabel('Intenzita tornáda')\n",
    "plt.ylabel('Hodnota chyby')\n",
    "plt.title('Rozdelenie MAE a RMSE podľa intenzity tornáda')\n",
    "plt.xticks([i + bar_width / 2 for i in bar_index], labels)\n",
    "plt.legend()\n",
    "\n",
    "# Priradí čísla nad stĺpce pre MAE\n",
    "for i, v in enumerate(errors_df['MAE']):\n",
    "    plt.text(i, v + 0.05, f'{v:.2f}', ha='center', va='bottom')\n",
    "\n",
    "# Priradí čísla nad stĺpce pre RMSE\n",
    "for i, v in enumerate(errors_df['RMSE']):\n",
    "    plt.text(i + bar_width, v + 0.05, f'{v:.2f}', ha='center', va='bottom')\n",
    "\n",
    "plt.tight_layout()\n",
    "plt.show()\n"
   ]
  },
  {
   "cell_type": "code",
   "execution_count": null,
   "id": "5953b13f",
   "metadata": {},
   "outputs": [],
   "source": []
  }
 ],
 "metadata": {
  "kernelspec": {
   "display_name": "Python 3 (ipykernel)",
   "language": "python",
   "name": "python3"
  },
  "language_info": {
   "codemirror_mode": {
    "name": "ipython",
    "version": 3
   },
   "file_extension": ".py",
   "mimetype": "text/x-python",
   "name": "python",
   "nbconvert_exporter": "python",
   "pygments_lexer": "ipython3",
   "version": "3.10.11"
  }
 },
 "nbformat": 4,
 "nbformat_minor": 5
}
