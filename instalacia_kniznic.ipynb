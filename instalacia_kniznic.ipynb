{
 "cells": [
  {
   "cell_type": "markdown",
   "metadata": {},
   "source": [
    "<h1>Inštalácia potrebných knižníc</h1>"
   ]
  },
  {
   "cell_type": "code",
   "execution_count": 3,
   "metadata": {},
   "outputs": [],
   "source": [
    "import subprocess\n",
    "\n",
    "# Inštalácia potrebných knižníc\n",
    "packages = [\"pandas\", \"numpy\", \"scikit-learn\", \"imbalanced-learn\", \"seaborn\", \"matplotlib\", \"xgboost\", \"yellowbrick\", \"plotly\", \"calendar\", \"scipy\"]\n",
    "\n",
    "for package in packages:\n",
    "    subprocess.call([\"pip\", \"install\", package])"
   ]
  }
 ],
 "metadata": {
  "kernelspec": {
   "display_name": "Python 3",
   "language": "python",
   "name": "python3"
  },
  "language_info": {
   "codemirror_mode": {
    "name": "ipython",
    "version": 3
   },
   "file_extension": ".py",
   "mimetype": "text/x-python",
   "name": "python",
   "nbconvert_exporter": "python",
   "pygments_lexer": "ipython3",
   "version": "3.10.11"
  }
 },
 "nbformat": 4,
 "nbformat_minor": 2
}
